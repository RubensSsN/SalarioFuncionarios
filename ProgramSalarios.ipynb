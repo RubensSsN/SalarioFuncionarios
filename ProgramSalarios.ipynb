{
  "cells": [
    {
      "cell_type": "code",
      "execution_count": null,
      "metadata": {
        "colab": {
          "base_uri": "https://localhost:8080/"
        },
        "id": "SZfTO4euN71c",
        "outputId": "80791d76-e644-49fa-965d-a13e288c4390"
      },
      "outputs": [],
      "source": [
        "vendas_emily = float(input('informe o valor de suas vendas '))\n",
        "salario_fixo_emily = 1000"
      ]
    },
    {
      "cell_type": "code",
      "execution_count": null,
      "metadata": {
        "colab": {
          "base_uri": "https://localhost:8080/"
        },
        "id": "X2ilKBRd9_aX",
        "outputId": "a8a0873c-ef1c-4651-984c-9e2ec29a6f07"
      },
      "outputs": [],
      "source": [
        "vendas_Larissa = float(input('informe o valor de suas vendas '))\n",
        "salario_fixo_Larissa = 1000"
      ]
    },
    {
      "cell_type": "code",
      "execution_count": null,
      "metadata": {
        "colab": {
          "base_uri": "https://localhost:8080/"
        },
        "id": "vO7_eStH_JJL",
        "outputId": "511bc2f2-0ae0-4fed-eb98-108b9fed1518"
      },
      "outputs": [],
      "source": [
        "vendas_Milena = float(input('informe o valor de suas vendas '))\n",
        "salario_fixo_Milena = 1000"
      ]
    },
    {
      "cell_type": "code",
      "execution_count": null,
      "metadata": {
        "colab": {
          "base_uri": "https://localhost:8080/"
        },
        "id": "CELSDgP8lIVM",
        "outputId": "16bb6f74-fbda-489f-d404-86262a59871b"
      },
      "outputs": [],
      "source": [
        "vendas_rafael = float(input('informe o valor de suas vendas '))\n",
        "salario_fixo_rafael = 1000"
      ]
    },
    {
      "cell_type": "code",
      "execution_count": 20,
      "metadata": {
        "id": "ZjEYeS0DQ1oX"
      },
      "outputs": [],
      "source": [
        "vendas_total = vendas_rafael + vendas_emily + vendas_Milena + vendas_Larissa\n",
        "salario_jessica = 2000 + 0.005 * vendas_total"
      ]
    },
    {
      "cell_type": "code",
      "execution_count": null,
      "metadata": {
        "colab": {
          "base_uri": "https://localhost:8080/"
        },
        "id": "PVhIn3LpvKYG",
        "outputId": "57cc30af-a9b8-41f0-c17b-f92477aea098"
      },
      "outputs": [],
      "source": [
        "def vendedor(emily):\n",
        "    salario_fixo_emily = 1000\n",
        "    return salario_fixo_emily\n",
        "if (vendas_emily <5000):          # Se emily vender menos que 5000 o salário dela não será alterado\n",
        "  salario_emily= vendas_emily * 1.0/100 + (salario_fixo_emily)\n",
        "  print('O salário de emily é R$', salario_emily)\n",
        "if (vendas_emily >= 5000 and vendas_emily<= 10000):         # Se emily vender entre 5 e 10 mil ela ganha uma comissão de 1.5% que é somado ao seu salário\n",
        "  salario_emily = vendas_emily * 1.5/100 + (salario_fixo_emily)\n",
        "  print('O salário de emily é R$', salario_emily)\n",
        "if (vendas_emily >10000):                                  # Se emily vender mais que 10000 ela ganha uma comissão de 2% que é somado ao seu salário\n",
        "  salario_emily= vendas_emily * 2/100 + (salario_fixo_emily)\n",
        "  print('O salário de emily é R$', salario_emily)"
      ]
    },
    {
      "cell_type": "code",
      "execution_count": null,
      "metadata": {
        "colab": {
          "base_uri": "https://localhost:8080/"
        },
        "id": "0WLxCU3UkhgH",
        "outputId": "5ee986eb-a0b7-4bf8-e616-1315daddfbce"
      },
      "outputs": [],
      "source": [
        "def vendedor(rafael):\n",
        "    salario_fixo_rafael = 1000\n",
        "    return salario_fixo_rafael\n",
        "if (vendas_rafael <5000):          # Se rafael vender menos que 5000 o salario dela não será alterado\n",
        "  salario_rafael= vendas_rafael * 1.0/100 + (salario_fixo_rafael)\n",
        "  print('O salário de rafael é R$', salario_rafael)\n",
        "if (vendas_rafael >= 5000 and vendas_rafael<= 10000):        # Se rafael vender entre 5 e 10 mil ela ganha uma comissão de 1.5% que é somado ao seu salário\n",
        "  salario_rafael = vendas_rafael * 1.5/100 + (salario_fixo_rafael)\n",
        "  print('O salário de rafael é R$', salario_rafael)\n",
        "if (vendas_rafael >10000):                                   # Se rafael vender mais que 10000 ela ganha uma comissão de 2% que é somado ao seu salário\n",
        "  salario_rafael= vendas_rafael * 2/100 + (salario_fixo_rafael)\n",
        "  print('O salário de rafael é R$', salario_rafael)"
      ]
    },
    {
      "cell_type": "code",
      "execution_count": null,
      "metadata": {
        "colab": {
          "base_uri": "https://localhost:8080/"
        },
        "id": "t5zUZVYs9cHm",
        "outputId": "2b27bd21-2872-4580-98eb-ae3290887ed5"
      },
      "outputs": [],
      "source": [
        "def vendedor(Larissa):\n",
        "    salario_fixo_Larissa = 1000\n",
        "    return salario_fixo_Larissa\n",
        "if (vendas_Larissa <5000):          # Se Larissa vender menos que 5000 o salario dela não será alterado\n",
        "  salario_Larissa= vendas_Larissa * 1.0/100 + (salario_fixo_Larissa)\n",
        "  print('O salário de Larissa é R$', salario_Larissa)\n",
        "if (vendas_Larissa >= 5000 and vendas_Larissa<= 10000):      # Se Larissa vender entre 5 e 10 mil ela ganha uma comissão de 1.5% que é somado ao seu salário\n",
        "  salario_Larissa = vendas_Larissa * 1.5/100 + (salario_fixo_Larissa)\n",
        "  print('O salário de Larissa é R$', salario_Larissa)\n",
        "if (vendas_Larissa >10000):                                  # Se Larissa vender mais que 10000 ela ganha uma comissão de 2% que é somado ao seu salário\n",
        "  salario_Larissa= vendas_Larissa * 2/100 + (salario_fixo_Larissa)\n",
        "  print('O salário de Larissa é R$', salario_Larissa)"
      ]
    },
    {
      "cell_type": "code",
      "execution_count": null,
      "metadata": {
        "colab": {
          "base_uri": "https://localhost:8080/"
        },
        "id": "KyDpvECf-nhG",
        "outputId": "d29c08f2-91ec-4da8-f82d-c30f674220c3"
      },
      "outputs": [],
      "source": [
        "def vendedor(Milena):\n",
        "    salario_fixo_Milena = 1000\n",
        "    return salario_fixo_Milena\n",
        "if (vendas_Milena <5000):          # Se Milena vender menos que 5000 o salario dela não será alterado\n",
        "  salario_Milena= vendas_Milena * 1.0/100 + (salario_fixo_Milena)\n",
        "  print('O salário de Milena é R$', salario_Milena)\n",
        "if (vendas_Milena >= 5000 and vendas_Milena<= 10000):       # Se Milena vender entre 5 e 10 mil ela ganha uma comissão de 1.5% que é somado ao seu salário\n",
        "  salario_Milena = vendas_Milena * 1.5/100 + (salario_fixo_Milena)\n",
        "  print('O salário de Milena é R$', salario_Milena)\n",
        "if (vendas_Milena >10000):                                  # Se Milena vender mais que 10000 ela ganha uma comissão de 2% que é somado ao seu salário\n",
        "  salario_Milena= vendas_Milena * 2/100 + (salario_fixo_Milena)\n",
        "  print('O salário de Milena é R$', salario_Milena)"
      ]
    },
    {
      "cell_type": "code",
      "execution_count": null,
      "metadata": {
        "colab": {
          "base_uri": "https://localhost:8080/"
        },
        "id": "PgLW6VVXDHMl",
        "outputId": "970452df-8614-49e4-df63-cecbb8e9cdda"
      },
      "outputs": [],
      "source": [
        "def gerente(jessica):\n",
        "    salario_fixo_jessica = 2000\n",
        "    return salario_fixo_jessica\n",
        "    salario_jessica = 2000 + (0.05 * vendas_total)        # Para chegarmos ao resultado do salario total de jessica pegamos o fixo que é 2000 e somamos com as vendas totais multiplacadas por 0.05\n",
        "print('O salário de Jessica é R$', salario_jessica)\n",
        "\n"
      ]
    },
    {
      "cell_type": "code",
      "execution_count": 29,
      "metadata": {
        "id": "cvO-k1K4HpKn"
      },
      "outputs": [],
      "source": [
        "faturamento_total = vendas_Milena + vendas_emily + vendas_Larissa + vendas_rafael\n",
        "salario_total = salario_jessica + salario_rafael + salario_Milena + salario_emily + salario_Larissa "
      ]
    },
    {
      "cell_type": "code",
      "execution_count": null,
      "metadata": {
        "colab": {
          "base_uri": "https://localhost:8080/"
        },
        "id": "JxTZhRCXMiOY",
        "outputId": "1d8c1bb6-af91-4e7e-c81b-7eb70251a8bb"
      },
      "outputs": [],
      "source": [
        "def faturamento(total):\n",
        "    faturamento_total = vendas_Milena + vendas_emily + vendas_Larissa + vendas_rafael           # Para sabermos o faturamento total calculamos a soma de todas as vendas feitas pelos vendedores\n",
        "print('O faturamento total é R$',faturamento_total)"
      ]
    },
    {
      "cell_type": "code",
      "execution_count": null,
      "metadata": {
        "colab": {
          "base_uri": "https://localhost:8080/"
        },
        "id": "UNJOzHBI3I1a",
        "outputId": "4de4d6fb-46a3-463b-b93b-fe0ee2a430c7"
      },
      "outputs": [],
      "source": [
        "def salario(total):\n",
        "    salario_total = salario_jessica + salario_rafael + salario_Milena + salario_emily + salario_Larissa        # Salario de todos os funcionários é somado para chegarmos ao salario total\n",
        "print('O salario de todos os funcionários é R$',salario_total)"
      ]
    }
  ],
  "metadata": {
    "colab": {
      "name": "Sistematização.ipynb",
      "provenance": []
    },
    "kernelspec": {
      "display_name": "Python 3",
      "name": "python3"
    },
    "language_info": {
      "name": "python"
    }
  },
  "nbformat": 4,
  "nbformat_minor": 0
}
